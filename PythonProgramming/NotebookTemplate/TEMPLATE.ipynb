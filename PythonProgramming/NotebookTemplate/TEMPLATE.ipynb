{
 "cells": [
  {
   "cell_type": "markdown",
   "metadata": {},
   "source": [
    "### Problem 1:\n",
    "### Problem Statement\n",
    "Procedure to return the list of factors of a given number.\n",
    "### Constrains\n",
    "\n",
    "\n",
    "### Test Case\n",
    "* factorsList(6) -> [1, 2, 3, 6]\n",
    "* factorsList(100) -> [1, 2, 4, 5, 10, 20, 25, 50, 100]\n",
    "* factorsList(1) -> [1]"
   ]
  },
  {
   "cell_type": "markdown",
   "metadata": {},
   "source": [
    "### Pseudo code for a Factors:\n",
    "\n",
    "read N <br>\n",
    "i=1<br>\n",
    "if i<N/2<br>\n",
    "    if N%i==0<br>\n",
    "        print i<br>\n",
    "    i=i+1\n"
   ]
  },
  {
   "cell_type": "markdown",
   "metadata": {},
   "source": [
    "<div  style=\"float:left\"><h3>Flow Chat:</h3><br>\n",
    "    <img align=\"left\" src='factors.PNG'> \n",
    "</div>\n",
    "<div> <h3>Output:</h3><br>\n",
    "    <img  src='output.PNG'>\n",
    "</div>"
   ]
  },
  {
   "cell_type": "code",
   "execution_count": 5,
   "metadata": {},
   "outputs": [
    {
     "data": {
      "text/plain": [
       "[1, 2, 3, 6]"
      ]
     },
     "execution_count": 5,
     "metadata": {},
     "output_type": "execute_result"
    }
   ],
   "source": [
    "# Python Program\n",
    "\n",
    "def factorsList(n):\n",
    "    a = []\n",
    "    for i in range(1, n//2+1):\n",
    "        if n % i == 0:\n",
    "            a.append(i)\n",
    "    a.append(n)\n",
    "    return a\n",
    "factorsList(6)"
   ]
  },
  {
   "cell_type": "code",
   "execution_count": null,
   "metadata": {},
   "outputs": [],
   "source": []
  },
  {
   "cell_type": "code",
   "execution_count": null,
   "metadata": {},
   "outputs": [],
   "source": []
  }
 ],
 "metadata": {
  "kernelspec": {
   "display_name": "Python 3",
   "language": "python",
   "name": "python3"
  },
  "language_info": {
   "codemirror_mode": {
    "name": "ipython",
    "version": 3
   },
   "file_extension": ".py",
   "mimetype": "text/x-python",
   "name": "python",
   "nbconvert_exporter": "python",
   "pygments_lexer": "ipython3",
   "version": "3.7.3"
  }
 },
 "nbformat": 4,
 "nbformat_minor": 2
}
