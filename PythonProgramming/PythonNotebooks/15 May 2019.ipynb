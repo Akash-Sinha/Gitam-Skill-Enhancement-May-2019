{
 "cells": [
  {
   "cell_type": "markdown",
   "metadata": {},
   "source": [
    "# Problem Solving and Programming\n",
    "\n",
    "### Day No -\n",
    "### Date - \n",
    "\n",
    "### Day Objectives\n",
    "1. Objective 1\n",
    "2. Objective 2\n",
    "3. Objective 3\n",
    "\n"
   ]
  },
  {
   "cell_type": "markdown",
   "metadata": {},
   "source": []
  },
  {
   "cell_type": "markdown",
   "metadata": {},
   "source": [
    "### Packages and Modules\n",
    "\n",
    "\n",
    "Package - Collection of Python Scripts ( .py )\n",
    "Sub-Package - Package inside another Package\n",
    "Module - A Python Script"
   ]
  },
  {
   "cell_type": "code",
   "execution_count": 2,
   "metadata": {},
   "outputs": [
    {
     "data": {
      "text/plain": [
       "123"
      ]
     },
     "execution_count": 2,
     "metadata": {},
     "output_type": "execute_result"
    }
   ],
   "source": [
    "from PythonScripts.numericalFunctions import sumN as a\n",
    "from PythonScripts.strings.stringFunction import *\n",
    "import math\n",
    "\n",
    "#factorial(20)\n",
    "reverseString('Python')\n",
    "math.floor(123.999)"
   ]
  },
  {
   "cell_type": "code",
   "execution_count": 7,
   "metadata": {},
   "outputs": [
    {
     "data": {
      "text/plain": [
       "list_iterator"
      ]
     },
     "execution_count": 7,
     "metadata": {},
     "output_type": "execute_result"
    }
   ],
   "source": [
    "iterable = iter([1,2,3])\n",
    "type(iterable)"
   ]
  },
  {
   "cell_type": "code",
   "execution_count": null,
   "metadata": {},
   "outputs": [],
   "source": []
  },
  {
   "cell_type": "markdown",
   "metadata": {},
   "source": [
    "#### Regular Expressions\n",
    "A set of all possible values that satisfy a given a pattern\n",
    "\n",
    "0123456789\n",
    "[0-9]\n",
    "[a-z]\n",
    "[A-Z]\n",
    "\n",
    "\n",
    "Validate a postal code\n",
    "500001, 203456 true\n",
    "050101 false\n",
    "\n",
    "\n",
    "Email Validation\n",
    "\n",
    "\n",
    "Password validation\n",
    "\n",
    "* Should contain atleast one uppercase letter\n",
    "* length in the range (6,21)\n",
    "* should contain atleast one special character\n",
    "* should start with an uppercase or lowercase\n",
    "* should contain atleast one digit\n",
    "\n",
    "\n",
    "\n",
    "\n",
    "    Password strength\n",
    "    \n",
    "\n",
    "\n",
    "\n",
    "\n"
   ]
  },
  {
   "cell_type": "code",
   "execution_count": 11,
   "metadata": {},
   "outputs": [
    {
     "name": "stdout",
     "output_type": "stream",
     "text": [
      "Match\n"
     ]
    }
   ],
   "source": [
    "\n",
    "import re\n",
    "\n",
    "postalCodePattern = '^[1-9][0-9]{5}$'\n",
    "\n",
    "code = '100001'\n",
    "\n",
    "\n",
    "phoneNumberPattern1 = '^[+][9][1][6-9][0-9]{9}$'\n",
    "\n",
    "ph = '9000001234'\n",
    "\n",
    "\n",
    "\n",
    "if re.match(phoneNumberPattern1, ph):\n",
    "    print('Match')\n",
    "else:\n",
    "    print('Does not Match')"
   ]
  },
  {
   "cell_type": "code",
   "execution_count": null,
   "metadata": {},
   "outputs": [],
   "source": []
  },
  {
   "cell_type": "markdown",
   "metadata": {},
   "source": [
    "#### Iterators in Python\n",
    "\n",
    "Lists, Tuples, Strings\n",
    "\n"
   ]
  },
  {
   "cell_type": "code",
   "execution_count": 23,
   "metadata": {},
   "outputs": [
    {
     "name": "stdout",
     "output_type": "stream",
     "text": [
      "1 2 3 4 5 6 1 2 3 4 5 6 "
     ]
    }
   ],
   "source": [
    "li = [1, 2, 3, 4, 5, 6]\n",
    "\n",
    "for i in li:\n",
    "    print(i, end = ' ')\n",
    "\n",
    "type(li)\n",
    "it = iter(li)\n",
    "for i in it:\n",
    "    print(i, end = ' ')\n"
   ]
  },
  {
   "cell_type": "markdown",
   "metadata": {},
   "source": [
    "#### Generators in Python\n",
    "\n"
   ]
  },
  {
   "cell_type": "code",
   "execution_count": 32,
   "metadata": {},
   "outputs": [
    {
     "name": "stdout",
     "output_type": "stream",
     "text": [
      "1 8 27 64 125 216 343 512 729 1000 "
     ]
    }
   ],
   "source": [
    "li = [i**3 for i in range(1,10)]\n",
    "li\n",
    "\n",
    "gn = (i**3 for i in range(1,11))\n",
    "\n",
    "for i in gn:\n",
    "    print(i, end = ' ')"
   ]
  },
  {
   "cell_type": "code",
   "execution_count": null,
   "metadata": {},
   "outputs": [],
   "source": [
    "### Problem 1 : \n",
    "#### Problem Statement\n",
    "\n",
    "#### Constraints\n",
    "\n",
    "#### Test Cases\n",
    "* Test Case 1\n",
    "* Test Case 2\n",
    "* Test Case 3"
   ]
  }
 ],
 "metadata": {
  "kernelspec": {
   "display_name": "Python 3",
   "language": "python",
   "name": "python3"
  },
  "language_info": {
   "codemirror_mode": {
    "name": "ipython",
    "version": 3
   },
   "file_extension": ".py",
   "mimetype": "text/x-python",
   "name": "python",
   "nbconvert_exporter": "python",
   "pygments_lexer": "ipython3",
   "version": "3.6.5"
  }
 },
 "nbformat": 4,
 "nbformat_minor": 2
}
