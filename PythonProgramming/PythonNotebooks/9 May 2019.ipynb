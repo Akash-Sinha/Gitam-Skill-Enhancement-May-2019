{
 "cells": [
  {
   "cell_type": "markdown",
   "metadata": {},
   "source": [
    "# Problem Solving and Programming\n",
    "\n",
    "### Day No - 11\n",
    "### Date - 9 May 2019\n",
    "\n",
    "### Day Outcomes\n",
    "1. Objective 1\n",
    "2. Objective 2\n",
    "3. Objective 3\n",
    "\n"
   ]
  },
  {
   "cell_type": "markdown",
   "metadata": {},
   "source": [
    "### Problem 1 : \n",
    "#### Problem Statement\n",
    "Given 2 int values, return True if first parameter is negative and second parameter is positive or vice versa. Except if the third parameter is True, then return True only if first two parameters are negative.\n",
    "\n",
    "#### Constraints\n",
    "\n",
    "#### Test Cases\n",
    "* pos_neg(1, -1, False) → True\n",
    "* pos_neg(-1, 1, False) → True\n",
    "* pos_neg(-4, -5, True) → True\n",
    "* pos_neg(-1, 1, True) -> False\n",
    "* pos_neg(1, 6, True) -> False\n",
    "* pos_neg(-1, -9, False) -> False\n",
    "\n",
    "#### Explanation\n"
   ]
  },
  {
   "cell_type": "code",
   "execution_count": 7,
   "metadata": {},
   "outputs": [
    {
     "name": "stdout",
     "output_type": "stream",
     "text": [
      "True\n",
      "True\n",
      "True\n",
      "False\n",
      "False\n",
      "False\n"
     ]
    }
   ],
   "source": [
    "def pos_neg(n1, n2, b):\n",
    "    return (n1 < 0 and n2 > 0 and b == False) or (n1 > 0 and n2 < 0 and b == False) or (n1 < 0 and n2 < 0 and b == True)\n",
    "        \n",
    "\n",
    "print(pos_neg(1, -1, False))\n",
    "print(pos_neg(-1, 1, False))\n",
    "print(pos_neg(-4, -5, True))\n",
    "print(pos_neg(-1, 1, True))\n",
    "print(pos_neg(1, 6, True))\n",
    "print(pos_neg(-1, -9, False))"
   ]
  },
  {
   "cell_type": "code",
   "execution_count": null,
   "metadata": {},
   "outputs": [],
   "source": []
  },
  {
   "cell_type": "markdown",
   "metadata": {},
   "source": [
    "### Problem 2 : \n",
    "#### Problem Statement\n",
    "Create a Random Number Generator which takes the Range(lb, ub) and returns a Random number in the given range. lb < random number < ub\n",
    "\n",
    "#### Constraints\n",
    "\n",
    "\n",
    "\n",
    "#### Test Cases\n",
    "* RandomGenerator(1, 100) -> will be in range (1,100)\n"
   ]
  },
  {
   "cell_type": "code",
   "execution_count": 26,
   "metadata": {},
   "outputs": [
    {
     "data": {
      "text/plain": [
       "4"
      ]
     },
     "execution_count": 26,
     "metadata": {},
     "output_type": "execute_result"
    }
   ],
   "source": [
    "import random\n",
    "\n",
    "def randomGenerator(lb, ub):\n",
    "    return random.randrange(lb+1, ub)\n",
    "    \n",
    "randomGenerator(1,101)"
   ]
  },
  {
   "cell_type": "code",
   "execution_count": null,
   "metadata": {},
   "outputs": [],
   "source": []
  },
  {
   "cell_type": "markdown",
   "metadata": {},
   "source": [
    "### Problem 3 : \n",
    "#### Problem Statement\n",
    "Given an integer N, calculate the sum of N random numbers in the range [0, 1000000000000000)\n",
    "\n",
    "#### Constraints\n",
    "\n",
    "#### Test Cases\n",
    "* Test Case 1\n",
    "* Test Case 2\n",
    "* Test Case 3"
   ]
  },
  {
   "cell_type": "code",
   "execution_count": 36,
   "metadata": {},
   "outputs": [
    {
     "data": {
      "text/plain": [
       "50164927492583801"
      ]
     },
     "execution_count": 36,
     "metadata": {},
     "output_type": "execute_result"
    }
   ],
   "source": [
    "import random\n",
    "\n",
    "def sumRandomNumbers(n, lb, ub):\n",
    "    sum = 0\n",
    "    for count in range(1, n+1):\n",
    "        sum = sum + random.randint(lb, ub)\n",
    "    return sum\n",
    "\n",
    "sumRandomNumbers(100, 1000000000000, 1000000000000000)"
   ]
  },
  {
   "cell_type": "code",
   "execution_count": null,
   "metadata": {},
   "outputs": [],
   "source": []
  },
  {
   "cell_type": "markdown",
   "metadata": {},
   "source": [
    "### Problem 4 : \n",
    "#### Problem Statement\n",
    "Design a procedure to perform Linear search on list of N unsorted unique numbers. It take an array and the key element to be searched and returns the index of the element of key element if found. Else returns -1\n",
    "\n",
    "#### Constraints\n",
    "\n",
    "#### Test Cases\n",
    "* linearSearch([1,4,8,0,3,5,6], 3) -> 4\n",
    "* linearSearch([15, 12, 9, 6, 3, -3], 0) -> -1\n",
    "* linearSearch([321, 543, 567, 789], 567) -> 2"
   ]
  },
  {
   "cell_type": "code",
   "execution_count": 43,
   "metadata": {
    "scrolled": true
   },
   "outputs": [
    {
     "name": "stdout",
     "output_type": "stream",
     "text": [
      "-1\n",
      "2\n"
     ]
    }
   ],
   "source": [
    "def linearSearch(a, key):\n",
    "    for i in range(0, len(a)):\n",
    "        if(a[i] == key):\n",
    "            return i\n",
    "    return -1\n",
    "\n",
    "print(linearSearch([15, 12, 9, 6, 3, -3], 0))\n",
    "print(linearSearch([132, 543, 567, 789], 567))"
   ]
  },
  {
   "cell_type": "code",
   "execution_count": null,
   "metadata": {},
   "outputs": [],
   "source": []
  },
  {
   "cell_type": "markdown",
   "metadata": {},
   "source": [
    "### Problem 5 : \n",
    "#### Problem Statement\n",
    "Procedure to generate multiplication tables. \n",
    "\n",
    "#### Constraints\n",
    "\n",
    "#### Test Cases\n",
    "* Test Case 1\n",
    "* Test Case 2\n",
    "* Test Case 3"
   ]
  },
  {
   "cell_type": "code",
   "execution_count": 46,
   "metadata": {},
   "outputs": [
    {
     "name": "stdout",
     "output_type": "stream",
     "text": [
      "10 x 100 = 1000\n",
      "10 x 101 = 1010\n",
      "10 x 102 = 1020\n",
      "10 x 103 = 1030\n",
      "10 x 104 = 1040\n",
      "10 x 105 = 1050\n"
     ]
    }
   ],
   "source": [
    "def multiplicationTable(table, lb, ub):\n",
    "    for i in range(lb, ub+1):\n",
    "        print(table, 'x', i, '=', table*i)\n",
    "    return\n",
    "        \n",
    "multiplicationTable(10, 100, 105)"
   ]
  },
  {
   "cell_type": "code",
   "execution_count": null,
   "metadata": {},
   "outputs": [],
   "source": []
  },
  {
   "cell_type": "markdown",
   "metadata": {},
   "source": [
    "### Problem 6: \n",
    "#### Problem Statement\n",
    "Procedure to return the list of factors of a given number.\n",
    "\n",
    "#### Constraints\n",
    "\n",
    "#### Test Cases\n",
    "* factorsList(6) -> [1, 2, 3, 6]\n",
    "* factorsList(100) -> [1, 2, 4, 5, 10, 20, 25, 50, 100]\n",
    "* factorsList(1) -> [1]\n"
   ]
  },
  {
   "cell_type": "code",
   "execution_count": 55,
   "metadata": {},
   "outputs": [
    {
     "data": {
      "text/plain": [
       "[1, 2, 3, 6]"
      ]
     },
     "execution_count": 55,
     "metadata": {},
     "output_type": "execute_result"
    }
   ],
   "source": [
    "def factorsList(n):\n",
    "    a = []\n",
    "    for i in range(1, n//2+1):\n",
    "        if n % i == 0:\n",
    "            a.append(i)\n",
    "    a.append(n)\n",
    "    return a\n",
    "    \n",
    "factorsList(6)"
   ]
  },
  {
   "cell_type": "code",
   "execution_count": null,
   "metadata": {},
   "outputs": [],
   "source": []
  },
  {
   "cell_type": "markdown",
   "metadata": {},
   "source": [
    "### Problem 7 : \n",
    "#### Problem Statement\n",
    "Design a procedure to determine if a given string is a Palindrome\n",
    "\n",
    "#### Constraints\n",
    "\n",
    "#### Test Cases\n",
    "* Palindrome(\"racecar\") -> True\n",
    "* Palindrome(\"python\") -> False\n"
   ]
  },
  {
   "cell_type": "code",
   "execution_count": 66,
   "metadata": {},
   "outputs": [
    {
     "data": {
      "text/plain": [
       "True"
      ]
     },
     "execution_count": 66,
     "metadata": {},
     "output_type": "execute_result"
    }
   ],
   "source": [
    "def palindrome(s):\n",
    "    rs = s[-1::-1]\n",
    "    if(s == rs):\n",
    "        return True\n",
    "    return False\n",
    "\n",
    "palindrome('racecar')\n"
   ]
  },
  {
   "cell_type": "code",
   "execution_count": null,
   "metadata": {},
   "outputs": [],
   "source": []
  }
 ],
 "metadata": {
  "kernelspec": {
   "display_name": "Python 3",
   "language": "python",
   "name": "python3"
  },
  "language_info": {
   "codemirror_mode": {
    "name": "ipython",
    "version": 3
   },
   "file_extension": ".py",
   "mimetype": "text/x-python",
   "name": "python",
   "nbconvert_exporter": "python",
   "pygments_lexer": "ipython3",
   "version": "3.6.5"
  }
 },
 "nbformat": 4,
 "nbformat_minor": 2
}
