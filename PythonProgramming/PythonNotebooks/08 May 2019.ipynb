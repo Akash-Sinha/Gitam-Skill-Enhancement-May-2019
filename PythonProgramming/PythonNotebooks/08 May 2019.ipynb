{
 "cells": [
  {
   "cell_type": "markdown",
   "metadata": {},
   "source": [
    "# Problem Solving and Programming\n",
    "\n",
    "### Day No -\n",
    "### Date - 8 May 2019\n",
    "\n",
    "### Day Objectives\n",
    "1. Objective 1\n",
    "2. Objective 2\n",
    "3. Objective 3\n",
    "\n"
   ]
  },
  {
   "cell_type": "markdown",
   "metadata": {},
   "source": [
    "### Print Output"
   ]
  },
  {
   "cell_type": "code",
   "execution_count": 35,
   "metadata": {
    "scrolled": false
   },
   "outputs": [
    {
     "name": "stdout",
     "output_type": "stream",
     "text": [
      "Hello World\n",
      "Hello Python\n"
     ]
    }
   ],
   "source": [
    "print(\"Hello World\")\n",
    "name = 'Python'\n",
    "print('Hello %s' % name)\n"
   ]
  },
  {
   "cell_type": "markdown",
   "metadata": {},
   "source": [
    "### Variable Assignment"
   ]
  },
  {
   "cell_type": "code",
   "execution_count": 38,
   "metadata": {},
   "outputs": [
    {
     "data": {
      "text/plain": [
       "228886641"
      ]
     },
     "execution_count": 38,
     "metadata": {},
     "output_type": "execute_result"
    }
   ],
   "source": [
    "var1 = 123\n",
    "var2 = (var1 * var1) * 3\n",
    "var3 = (var1 * var1) ** 2\n",
    "var3"
   ]
  },
  {
   "cell_type": "code",
   "execution_count": 42,
   "metadata": {},
   "outputs": [
    {
     "name": "stdout",
     "output_type": "stream",
     "text": [
      "Sum of var1 and var2 is 45510\n"
     ]
    }
   ],
   "source": [
    "print('Sum of var1 and var2 is %s' % str(var1 + var2))"
   ]
  },
  {
   "cell_type": "markdown",
   "metadata": {},
   "source": [
    "### Count Digits in a number"
   ]
  },
  {
   "cell_type": "code",
   "execution_count": 3,
   "metadata": {},
   "outputs": [
    {
     "name": "stdout",
     "output_type": "stream",
     "text": [
      "97\n"
     ]
    }
   ],
   "source": [
    "print(len(str(var2)))"
   ]
  },
  {
   "cell_type": "code",
   "execution_count": null,
   "metadata": {},
   "outputs": [],
   "source": []
  },
  {
   "cell_type": "markdown",
   "metadata": {},
   "source": [
    "### Getting the data type"
   ]
  },
  {
   "cell_type": "code",
   "execution_count": 4,
   "metadata": {},
   "outputs": [
    {
     "data": {
      "text/plain": [
       "str"
      ]
     },
     "execution_count": 4,
     "metadata": {},
     "output_type": "execute_result"
    }
   ],
   "source": [
    "type(var3)\n",
    "type(\"Python\")"
   ]
  },
  {
   "cell_type": "code",
   "execution_count": null,
   "metadata": {},
   "outputs": [],
   "source": []
  },
  {
   "cell_type": "markdown",
   "metadata": {},
   "source": [
    "### String Slicing"
   ]
  },
  {
   "cell_type": "code",
   "execution_count": 50,
   "metadata": {},
   "outputs": [
    {
     "data": {
      "text/plain": [
       "'in'"
      ]
     },
     "execution_count": 50,
     "metadata": {},
     "output_type": "execute_result"
    }
   ],
   "source": [
    "str1 = \"Python Programming\"\n",
    "\n",
    "str1[0] # Accessing the first character\n",
    "str1[len(str1)-1] #printing the last character\n",
    "str1[0:6] #Printing first 6 characters\n",
    "str1[len(str1)-1::-1] #Reverse of a String\n",
    "str1[0:len(str1):2] #Alternate characters\n",
    "str1[5::-2] #Reverse Alternate characters\n",
    "str1[7:] * 10 #repeating a string n times\n",
    "#print(str1[7:], end='\\n')\n",
    "#print(str1[7:], end='\\n')\n",
    "\n",
    "str1[-3:-1]"
   ]
  },
  {
   "cell_type": "code",
   "execution_count": null,
   "metadata": {},
   "outputs": [],
   "source": []
  },
  {
   "cell_type": "markdown",
   "metadata": {},
   "source": [
    "### Lists"
   ]
  },
  {
   "cell_type": "code",
   "execution_count": 51,
   "metadata": {},
   "outputs": [
    {
     "data": {
      "text/plain": [
       "[123, 345, 432]"
      ]
     },
     "execution_count": 51,
     "metadata": {},
     "output_type": "execute_result"
    }
   ],
   "source": [
    "li = [123, 345, 'Python']\n",
    "len(li) #Length of the list\n",
    "li[2] #Accessing list elements\n",
    "li[len(li)-1] = 'Programming'#Replacing an element in a list\n",
    "li.append('Python') #Adding a new element to the end of a list through indirect referencing\n",
    "li.insert(0, 123) #Adding an element at an index in a list thorugh indirect referencing\n",
    "li.insert(1, 345)\n",
    "#Direct referencing is to replace / add elements is not recommended\n",
    "#print(li)\n",
    "li[2:]\n",
    "li.pop() # removes the last element\n",
    "li.remove(345) #removes the value trough indirect referencing\n",
    "li.pop(0) #removes the element at the given index through indirect referencing\n",
    "\n",
    "li2 = [[1,2,3],[4,5,6],[7,8,9]]\n",
    "li2.insert(3,[10,11,12])\n",
    "li2.pop(3)\n",
    "li2.remove([7,8,9])\n",
    "li2 = [[1,2,3],[4,5,6,10],[7,8,9]]\n",
    "li2[1].pop(3)\n",
    "li.pop()\n",
    "li.sort()\n",
    "li.append(987)\n",
    "li.append(534)\n",
    "li.extend([765, 432, 999])\n",
    "li.sort()\n",
    "li.pop(6)\n",
    "del li[4]\n",
    "li[0:3]"
   ]
  },
  {
   "cell_type": "code",
   "execution_count": null,
   "metadata": {},
   "outputs": [],
   "source": []
  },
  {
   "cell_type": "markdown",
   "metadata": {},
   "source": [
    "### Tuples"
   ]
  },
  {
   "cell_type": "code",
   "execution_count": 7,
   "metadata": {},
   "outputs": [
    {
     "data": {
      "text/plain": [
       "'321543765'"
      ]
     },
     "execution_count": 7,
     "metadata": {},
     "output_type": "execute_result"
    }
   ],
   "source": [
    "t1 = (123, 345, 567)\n",
    "t1[2] + t1[1] #Accessing Elements in a Tuple\n",
    "\n",
    "t1[len(t1)-1] #Last element of a Tuple\n",
    "\n",
    "t1[1:3] \n",
    "str(t1[0])[1] + \" \" + str(t1[1])[1] + \" \" +str(t1[2])[1]\n",
    "#Second character of all elements of a Tuple\n",
    "\n",
    "#Reversing all characters of all elements \n",
    "#in a Tuple\n",
    "t1 = (123, 345, 567)\n",
    "\n",
    "str(t1[0])[2::-1] + str(t1[1])[2::-1] + str(t1[2])[2::-1]\n"
   ]
  },
  {
   "cell_type": "code",
   "execution_count": null,
   "metadata": {},
   "outputs": [],
   "source": []
  },
  {
   "cell_type": "markdown",
   "metadata": {},
   "source": [
    "### Reading Input from User"
   ]
  },
  {
   "cell_type": "code",
   "execution_count": 8,
   "metadata": {},
   "outputs": [
    {
     "name": "stdout",
     "output_type": "stream",
     "text": [
      "test\n"
     ]
    },
    {
     "data": {
      "text/plain": [
       "'test'"
      ]
     },
     "execution_count": 8,
     "metadata": {},
     "output_type": "execute_result"
    }
   ],
   "source": [
    "str1 = input()\n",
    "\n",
    "str1\n",
    "\n",
    "\n"
   ]
  },
  {
   "cell_type": "code",
   "execution_count": null,
   "metadata": {},
   "outputs": [],
   "source": []
  },
  {
   "cell_type": "markdown",
   "metadata": {},
   "source": [
    "### Dictionaries"
   ]
  },
  {
   "cell_type": "code",
   "execution_count": 45,
   "metadata": {},
   "outputs": [
    {
     "data": {
      "text/plain": [
       "True"
      ]
     },
     "execution_count": 45,
     "metadata": {},
     "output_type": "execute_result"
    }
   ],
   "source": [
    "d1 = {'procedural':'C', 'Scripting':'Python', 'Functional':'Haskell'}\n",
    "\n",
    "d1\n",
    "\n",
    "d1['Scripting'] #Accessing an element using they correspondong key using direct referencing\n",
    "d1.get('Scripting') #Accessing an element using they correspondong key using indirect referencing\n",
    "\n",
    "d1.values() #Returns all the values of all items\n",
    "d1.keys() #Returns all the the keys of all items\n",
    "d2 = {'Symbolic':'Mathematica', 'logic':'Prolog'}\n",
    "d1.update(d2) #Merging two dictionaries\n",
    "\n",
    "d1['ObjectOriented'] = 'Java' #Adding a new a element to the dictionary\n",
    "\n",
    "\n",
    "d1.pop('ObjectOriented') #Deleting an element. Second parameter is the optional default value to be returned if element is not present\n",
    "del d1['logic'] #Deleting and element. Returns an error if element is not present in the dictionary\n",
    "\n",
    "d1.items() #Returns a List of Tuple items of Dictionary\n",
    "\n",
    "'Scripting' in d1 #Checks if a particular key is existing in the dictionary"
   ]
  },
  {
   "cell_type": "code",
   "execution_count": null,
   "metadata": {},
   "outputs": [],
   "source": []
  },
  {
   "cell_type": "markdown",
   "metadata": {},
   "source": [
    "### Problem 1 : \n",
    "#### Statement\n",
    "For a given number, define a function to check if it is divisible by 2 and 3 but not 4.\n",
    "\n",
    "#### Constraints\n",
    "Given number will be in the range [1,1000000000]\n",
    "\n",
    "\n",
    "#### Test Cases\n",
    "* checkDivisibility(6) -> True\n",
    "* checkDivisibility(16) -> False\n",
    "* checkDivisibility(20) -> False"
   ]
  },
  {
   "cell_type": "code",
   "execution_count": 25,
   "metadata": {},
   "outputs": [
    {
     "name": "stdout",
     "output_type": "stream",
     "text": [
      "6 True\n",
      "16 False\n",
      "20 False\n"
     ]
    }
   ],
   "source": [
    "def checkDivisibility(n):\n",
    "    if(n % 2 == 0 and n % 3 == 0 and n % 4 != 0):\n",
    "        return True\n",
    "    else:\n",
    "        return False\n",
    "    \n",
    "print(6, checkDivisibility(6))\n",
    "print(16, checkDivisibility(16))\n",
    "print(20, checkDivisibility(20))"
   ]
  },
  {
   "cell_type": "code",
   "execution_count": null,
   "metadata": {},
   "outputs": [],
   "source": []
  },
  {
   "cell_type": "markdown",
   "metadata": {},
   "source": [
    "### Problem 2 : \n",
    "#### Problem Statement\n",
    "\n",
    "#### Constraints\n",
    "\n",
    "#### Test Cases\n",
    "* Test Case 1\n",
    "* Test Case 2\n",
    "* Test Case 3"
   ]
  }
 ],
 "metadata": {
  "kernelspec": {
   "display_name": "Python 3",
   "language": "python",
   "name": "python3"
  },
  "language_info": {
   "codemirror_mode": {
    "name": "ipython",
    "version": 3
   },
   "file_extension": ".py",
   "mimetype": "text/x-python",
   "name": "python",
   "nbconvert_exporter": "python",
   "pygments_lexer": "ipython3",
   "version": "3.6.5"
  }
 },
 "nbformat": 4,
 "nbformat_minor": 2
}
