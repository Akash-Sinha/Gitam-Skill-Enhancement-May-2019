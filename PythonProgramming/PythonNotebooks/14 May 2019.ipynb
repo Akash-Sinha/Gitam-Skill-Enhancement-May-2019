{
 "cells": [
  {
   "cell_type": "markdown",
   "metadata": {},
   "source": [
    "# Problem Solving and Programming\n",
    "\n",
    "### Day No - 16\n",
    "### Date - 14 May 2019\n",
    "\n",
    "### Day Objectives\n",
    "1. Objective 1\n",
    "2. Objective 2\n",
    "3. Objective 3\n",
    "\n"
   ]
  },
  {
   "cell_type": "markdown",
   "metadata": {},
   "source": [
    "### Problem 1 : \n",
    "#### Problem Statement\n",
    "For a given integer N, find the total number of  Non - Prime Factors in the range (1, N) (both exclusive) that do not contain the digit 0\n",
    "nonPrimeFactorsCount( 100 ) -> 2\n",
    "nonPrimeFactorsCount( 50 )  ->  1\n",
    "\n",
    "#### Constraints\n",
    "\n",
    "#### Test Cases\n",
    "* Test Case 1\n",
    "* Test Case 2\n",
    "* Test Case 3\n",
    "\n",
    "\n",
    "#### Explanation\n",
    "\n",
    "* List of Factors in (1, N)\n",
    "* isPrime(n) - > False\n",
    "* containsZero(n) -> False\n",
    "\n"
   ]
  },
  {
   "cell_type": "code",
   "execution_count": null,
   "metadata": {},
   "outputs": [],
   "source": []
  },
  {
   "cell_type": "markdown",
   "metadata": {},
   "source": [
    "### Problem 1 : \n",
    "#### Problem Statement\n",
    "For a given integer N. Find the least positive integer X made up of only 9's and 0's, such that, X is a multiple of N.\n",
    "X is made up of one or more occurrences of 9 and zero or more occurrences of 0.\n",
    "\n",
    "#### Constraints\n",
    "\n",
    "#### Test Cases\n",
    "\n",
    "Multiple( 5 )  -> 90\n",
    "Multiple ( 7 )  -> 9009\n",
    "Multiple( 1 )  -> 9\n",
    "\n",
    "\n",
    "#### Explanation\n",
    "\n",
    "For every value of X in the range(N*2, , N)\n",
    " \n",
    "check90(n) -> True\n",
    "X % N == 0\n",
    "\n"
   ]
  },
  {
   "cell_type": "code",
   "execution_count": null,
   "metadata": {},
   "outputs": [],
   "source": []
  },
  {
   "cell_type": "markdown",
   "metadata": {},
   "source": [
    "### Problem 1 : \n",
    "#### Problem Statement\n",
    "Print the elements of the outer matrix for a given matrix\n",
    "\n",
    "#### Constraints\n",
    "\n",
    "#### Test Cases\n",
    "* outerMatrix([[1,2,3], [4,5,6], [7,8,9]] -> 1 2 3 6 9 8 7 4\n",
    "* Test Case 2\n",
    "* Test Case 3\n",
    "\n",
    "\n",
    "\n",
    "\n",
    "#### Explanation\n",
    "\n",
    "\n",
    "N x M\n",
    "3 x 4\n",
    "\n",
    "1  2   3 \n",
    "4  5   6 \n",
    "7  8   9\n",
    "10 11 12\n",
    "\n",
    "1 2 3 10 11 12 9 8 7 4\n",
    "\n",
    "for(i = 0; i < M; i++)\n",
    "    print a[0][i]\n"
   ]
  },
  {
   "cell_type": "code",
   "execution_count": 27,
   "metadata": {},
   "outputs": [
    {
     "name": "stdout",
     "output_type": "stream",
     "text": [
      "1 2 3 6 9 12 11 10 7 4 "
     ]
    }
   ],
   "source": [
    "def rowPrint(a, r, rs, nc):\n",
    "    for i in range(rs, nc):\n",
    "        print(a[r][i], end = ' ')\n",
    "\n",
    "def columnPrint(a, c, cs, nr):\n",
    "    for i in range(cs, nr):\n",
    "        print(a[i][c], end = ' ')\n",
    "\n",
    "def reverseRowPrint(a, r, rs, nc):\n",
    "    for i in range(nc-rs-1, -1, -1):\n",
    "        print(a[r][i], end = ' ')\n",
    "\n",
    "def reverseColumnPrint(a, c, cstr, cstp, nr):\n",
    "    for i in range(nr-1-cstr, cstp, -1):\n",
    "        print(a[i][c], end = ' ')\n",
    "\n",
    "def outerMatrix(m1, nr, nc):\n",
    "    \n",
    "    rowPrint(m1, 0, 0, nc)\n",
    "    columnPrint(m1, nc-1, 1, nr)\n",
    "    reverseRowPrint(m1, nr-1, nc-2, nc)\n",
    "    reverseColumnPrint(m1, 0, nr-3, 0, nr)\n",
    "\n",
    "\n",
    "\n",
    "m1 = [[1,2,3], [4,5,6], [7,8,9], [10, 11, 12]]\n",
    "\n",
    "#rowPrint(m1, 1, 3)\n",
    "#columnPrint(m1, 2, 3)\n",
    "#reverseRowPrint(m1, 2, 3)\n",
    "#reverseColumnPrint(m1, 0, 1, 3)\n",
    "outerMatrix(m1, 4, 3)"
   ]
  },
  {
   "cell_type": "code",
   "execution_count": null,
   "metadata": {},
   "outputs": [],
   "source": []
  },
  {
   "cell_type": "markdown",
   "metadata": {},
   "source": [
    "### Problem 1 : \n",
    "#### Problem Statement\n",
    "\n",
    "\n",
    "#### Constraints\n",
    "\n",
    "#### Test Cases\n",
    "* Test Case 1\n",
    "* Test Case 2\n",
    "* Test Case 3\n"
   ]
  },
  {
   "cell_type": "code",
   "execution_count": null,
   "metadata": {},
   "outputs": [],
   "source": []
  },
  {
   "cell_type": "code",
   "execution_count": null,
   "metadata": {},
   "outputs": [],
   "source": []
  },
  {
   "cell_type": "code",
   "execution_count": null,
   "metadata": {},
   "outputs": [],
   "source": []
  },
  {
   "cell_type": "code",
   "execution_count": null,
   "metadata": {},
   "outputs": [],
   "source": []
  },
  {
   "cell_type": "code",
   "execution_count": null,
   "metadata": {},
   "outputs": [],
   "source": []
  }
 ],
 "metadata": {
  "kernelspec": {
   "display_name": "Python 3",
   "language": "python",
   "name": "python3"
  },
  "language_info": {
   "codemirror_mode": {
    "name": "ipython",
    "version": 3
   },
   "file_extension": ".py",
   "mimetype": "text/x-python",
   "name": "python",
   "nbconvert_exporter": "python",
   "pygments_lexer": "ipython3",
   "version": "3.6.5"
  }
 },
 "nbformat": 4,
 "nbformat_minor": 2
}
