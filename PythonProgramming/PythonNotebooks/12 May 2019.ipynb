{
 "cells": [
  {
   "cell_type": "markdown",
   "metadata": {},
   "source": [
    "# Problem Solving and Programming\n",
    "\n",
    "### Day No - 14\n",
    "### Date - 12 May 2019\n",
    "\n",
    "### Day Objectives\n",
    "1. Objective 1\n",
    "2. Objective 2\n",
    "3. Objective 3\n",
    "\n"
   ]
  },
  {
   "cell_type": "markdown",
   "metadata": {},
   "source": [
    "### Problem 1 : \n",
    "#### Problem Statement\n",
    "Define a function to check if a given year is a leap year. Returns a boolean value\n",
    "\n",
    "#### Constraints\n",
    "\n",
    "#### Test Cases\n",
    "* 2000 -> True\n",
    "* 1900 -> False\n",
    "* 2012 -> True\n",
    "* 2020 -> True\n",
    "* 0200 -> False\n",
    "\n",
    "#### Explanation\n",
    "\n",
    "A given year is leap year if it is divisible by 4 and not by 100 or by 400\n",
    "\n",
    "2100 -> 2100%400 != 0\n",
    "        2100 % 100 == 0 //Not a leap year\n",
    "        \n",
    "2016 -> 2016 % 400 != 0\n",
    "        2016 % 100 != 0\n",
    "        2016 % 4 == 0\n",
    "        \n",
    "Logical Operators - and or\n",
    "Bitwise Operators - | &"
   ]
  },
  {
   "cell_type": "code",
   "execution_count": 10,
   "metadata": {},
   "outputs": [
    {
     "data": {
      "text/plain": [
       "True"
      ]
     },
     "execution_count": 10,
     "metadata": {},
     "output_type": "execute_result"
    }
   ],
   "source": [
    "def checkLeapYear(year):\n",
    "    if (year % 400 == 0) or (year % 100 != 0 and year % 4 == 0):\n",
    "        return True\n",
    "    return False\n",
    "\n",
    "checkLeapYear(1200)"
   ]
  },
  {
   "cell_type": "code",
   "execution_count": null,
   "metadata": {},
   "outputs": [],
   "source": []
  },
  {
   "cell_type": "markdown",
   "metadata": {},
   "source": [
    "### Problem 1 : \n",
    "#### Problem Statement\n",
    "Design a Python script to determine the difference in date for given two dates in YYYY:MM:DD format(0 <= YYYY <= 9999, 1 <= MM <= 12, 1 <= DD <= 31) following the leap year rules. Return the total number of days existing between the two dates.\n",
    "\n",
    "#### Constraints\n",
    "\n",
    "#### Test Cases\n",
    "* dateDifference('2019:05:10', '2019:05:01') -> 9\n",
    "* dateDifference('0003:03:03', '0003:06:06') -> 95\n",
    "* dateDifference('0001:03:27', '0001:06:03') -> 68\n",
    "\n",
    "#### Explanation\n",
    "\n",
    "Calculate the month difference and subtract difference"
   ]
  },
  {
   "cell_type": "code",
   "execution_count": 68,
   "metadata": {},
   "outputs": [
    {
     "data": {
      "text/plain": [
       "759"
      ]
     },
     "execution_count": 68,
     "metadata": {},
     "output_type": "execute_result"
    }
   ],
   "source": [
    "def dateDifference(date1, date2):\n",
    "    if yearFromDate(date1) == yearFromDate(date2):\n",
    "        return abs(totalDaysDate(date1) - totalDaysDate(date2))\n",
    "    elif yearFromDate(date2) - yearFromDate(date1) == 1:\n",
    "        return totalDaysDateEndYear(date1) + totalDaysDate(date2)\n",
    "    else:\n",
    "        sum = totalDaysDateEndYear(date1) + totalDaysDate(date2)\n",
    "        year1 = yearFromDate(date1)\n",
    "        year2 = yearFromDate(date2)\n",
    "        for i in range(year1+1, year2):\n",
    "            sum += numDaysInYear(i)\n",
    "        return sum\n",
    "        \n",
    "     \n",
    " # This function returns the total number of days in February for a given year \n",
    "def daysInFeb(year):\n",
    "    '''\n",
    "    import calendar\n",
    "    return calendar.isleap(year)\n",
    "    '''\n",
    "    \n",
    "    if (year % 400 == 0) or (year % 100 != 0 and year % 4 == 0):\n",
    "        return 29\n",
    "    return 28\n",
    "\n",
    "# This function returns the total number of days in a given month\n",
    "def numDaysInMonth(month, year):\n",
    "    #monthDays = {'01':31, '03':31, '04':30, '05':31, '06':30, '07':31, '08':31, '09':30, '10':31, '11':30, '12':31}\n",
    "    if(month == 2):\n",
    "        return daysInFeb(year)\n",
    "    elif (month <= 7 and month != 2 and month % 2 == 0) or (month > 7 and month % 2 != 0) :\n",
    "        return 30\n",
    "    else:\n",
    "        return 31\n",
    "\n",
    "#This functions returns the total numberof days in a given year\n",
    "def numDaysInYear(year):\n",
    "    if daysInFeb(year) == 29:\n",
    "        return 366\n",
    "    return 365\n",
    "\n",
    "# This function returns the total number of days completed till the given date\n",
    "def totalDaysDate(date):\n",
    "    year = yearFromDate(date) # extract the year as an integer\n",
    "    month =  monthFromDate(date) # extract the month as an integer\n",
    "    day =  daysFromDate(date) # extract the day as an integer\n",
    "    sum = 0\n",
    "    for i in range(1, month):\n",
    "        sum +=  numDaysInMonth(i, year)\n",
    "    sum += day\n",
    "    return sum\n",
    "\n",
    "def totalDaysDateEndYear(date):\n",
    "    year = yearFromDate(date) # extract the year as an integer\n",
    "    month =  monthFromDate(date) # extract the month as an integer\n",
    "    day =  daysFromDate(date) # extract the day as an integer\n",
    "    sum = 0\n",
    "    for i in range(month+1, 13):\n",
    "        sum +=  numDaysInMonth(i, year)\n",
    "    sum += (numDaysInMonth(month, year) - day + 1)\n",
    "    return sum\n",
    "\n",
    "def yearFromDate(date):\n",
    "     return int(date[:4])\n",
    "    \n",
    "def monthFromDate(date):\n",
    "    return int(date[5:7])\n",
    "\n",
    "def daysFromDate(date):\n",
    "    return int(date[len(date)-2:])\n",
    "\n",
    "#dateDifference('0001:03:27', '0001:06:03')\n",
    "\n",
    "dateDifference('0001:01:31', '0003:02:28')"
   ]
  },
  {
   "cell_type": "code",
   "execution_count": null,
   "metadata": {},
   "outputs": [],
   "source": []
  },
  {
   "cell_type": "code",
   "execution_count": 67,
   "metadata": {},
   "outputs": [
    {
     "name": "stdout",
     "output_type": "stream",
     "text": [
      "758 days, 0:00:00\n"
     ]
    }
   ],
   "source": [
    "from datetime import date, datetime\n",
    "def dateDifference2(date1, date2):\n",
    "    year1 = yearFromDate(date1) # extract the year as an integer\n",
    "    month1 =  monthFromDate(date1) # extract the month as an integer\n",
    "    day1 =  daysFromDate(date1)\n",
    "    year2 = yearFromDate(date2) # extract the year as an integer\n",
    "    month2 =  monthFromDate(date2) # extract the month as an integer\n",
    "    day2 =  daysFromDate(date2)\n",
    "    d1 = date(year = year1, month = month1, day = day1)\n",
    "    d2 = date(year = year2, month = month2, day = day2)\n",
    "    print(d2-d1)\n",
    "    return\n",
    "dateDifference2('0001:01:31', '0003:02:28')"
   ]
  },
  {
   "cell_type": "code",
   "execution_count": null,
   "metadata": {},
   "outputs": [],
   "source": []
  },
  {
   "cell_type": "code",
   "execution_count": null,
   "metadata": {},
   "outputs": [],
   "source": []
  }
 ],
 "metadata": {
  "kernelspec": {
   "display_name": "Python 3",
   "language": "python",
   "name": "python3"
  },
  "language_info": {
   "codemirror_mode": {
    "name": "ipython",
    "version": 3
   },
   "file_extension": ".py",
   "mimetype": "text/x-python",
   "name": "python",
   "nbconvert_exporter": "python",
   "pygments_lexer": "ipython3",
   "version": "3.6.5"
  }
 },
 "nbformat": 4,
 "nbformat_minor": 2
}
