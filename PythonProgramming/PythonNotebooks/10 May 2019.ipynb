{
 "cells": [
  {
   "cell_type": "markdown",
   "metadata": {},
   "source": [
    "# Problem Solving and Programming\n",
    "\n",
    "### Day No - 12\n",
    "### Date - 10 May 2019\n",
    "\n",
    "### Day Objectives\n",
    "To\n",
    "1. Introduce Recursion in Programming\n",
    "2. Solve programming challenges on Recursion, Data Structures\n",
    "\n",
    "\n"
   ]
  },
  {
   "cell_type": "markdown",
   "metadata": {},
   "source": [
    "## Recursion\n",
    "\n",
    "Function Calling itself\n",
    "\n",
    "\n",
    "Breakdown a complex problem into subproblems of\n",
    "lower complexity. Keep repeating this process \n",
    "until we reach the smallest possible subproblem\n",
    "to which we know the solution\n",
    "\n",
    "\n",
    "Power of a number\n",
    "Factorial\n",
    "GCD\n",
    "Towers of Hanoi\n",
    "Binary Search\n",
    "Merge Search\n",
    "Fibonacii Series\n",
    "Any problem with iteration\n",
    "\n",
    "#### Iteration\n",
    "n ^ r = n * n * .... r times\n",
    "prod = 1\n",
    "for(i=1; i <= r; i++)\n",
    "        prod = prod * n\n",
    "\n",
    "prod = 1\n",
    "\n",
    "n ^ r\n",
    "2^3\n",
    "2^2 * 2\n",
    "2^1 * 2 * 2\n",
    "\n",
    "n^r\n",
    "n ^ r-1\n",
    "\n",
    "r = 1, n = n\n",
    "\n",
    "n ^ r\n",
    "(n ^ r-1) * n\n",
    "((n ^ r-2) * n) * n)\n",
    "\n",
    "\n",
    "keep repeating until r = 1, return n\n",
    "\n",
    "\n",
    "Recursive Function:\n",
    "    Base Condition\n",
    "\n",
    "    Recusive Call(reduce parameter complexity)\n",
    "\n",
    "\n",
    "\n",
    "a, b\n",
    "\n",
    "12, 39\n",
    "\n",
    "42 % 12 = 6\n",
    "\n",
    "while(r != 0)\n",
    "    r = b % a\n",
    "    b = a\n",
    "    a = r\n",
    "    \n",
    "\n",
    "\n",
    "\n"
   ]
  },
  {
   "cell_type": "code",
   "execution_count": 2,
   "metadata": {},
   "outputs": [
    {
     "data": {
      "text/plain": [
       "1024"
      ]
     },
     "execution_count": 2,
     "metadata": {},
     "output_type": "execute_result"
    }
   ],
   "source": [
    "def power(n, r):\n",
    "    prod = 1\n",
    "    for i in range(1, r+1):\n",
    "        prod *= n\n",
    "    return prod\n",
    "\n",
    "power(2,10)"
   ]
  },
  {
   "cell_type": "code",
   "execution_count": 4,
   "metadata": {},
   "outputs": [
    {
     "data": {
      "text/plain": [
       "8"
      ]
     },
     "execution_count": 4,
     "metadata": {},
     "output_type": "execute_result"
    }
   ],
   "source": [
    "def recursivePower(n, r):\n",
    "    if r == 1:\n",
    "        return n\n",
    "    else:\n",
    "        return recursivePower(n, r-1) * n\n",
    "    \n",
    "recursivePower(2,3)    "
   ]
  },
  {
   "cell_type": "code",
   "execution_count": 13,
   "metadata": {},
   "outputs": [
    {
     "data": {
      "text/plain": [
       "3"
      ]
     },
     "execution_count": 13,
     "metadata": {},
     "output_type": "execute_result"
    }
   ],
   "source": [
    "# Iterative GCD\n",
    "def gcdIterative(a, b):\n",
    "    \n",
    "    r = b % a\n",
    "    if(r == 0):\n",
    "        return a\n",
    "    while r != 0:\n",
    "        r = b % a\n",
    "        b = a\n",
    "        a = r\n",
    "        \n",
    "    return b\n",
    "\n",
    "gcdIterative(12, 39)"
   ]
  },
  {
   "cell_type": "code",
   "execution_count": 6,
   "metadata": {},
   "outputs": [
    {
     "data": {
      "text/plain": [
       "3"
      ]
     },
     "execution_count": 6,
     "metadata": {},
     "output_type": "execute_result"
    }
   ],
   "source": [
    "# GCD of two numbers remains the same when\n",
    "# smaller parameter is reduced to the remainder\n",
    "# and larger parameter is replaced by smaller number\n",
    "#GCD(a, b) = GCD(b%a, a)\n",
    "def gcdRecursive(a, b):\n",
    "    if b % a == 0:\n",
    "        return a\n",
    "    else:\n",
    "        return gcdRecursive(b % a, a)\n",
    "\n",
    "gcdRecursive(12, 39)"
   ]
  },
  {
   "cell_type": "markdown",
   "metadata": {},
   "source": [
    "### Problem 1 : \n",
    "#### Towers of Hanoi\n",
    "Given N disks, and three towers Source, Destination and Temporary,\n",
    "design a procedure to list out all the steps to be taken to move all disks from source to destination.\n",
    "\n",
    "\n",
    "\n",
    "#### Constraints\n",
    "Move only one disk at a time\n",
    "Larger disk cannot be placed on a smaller disk\n",
    "\n",
    "#### Test Cases\n",
    "* Test Case 1\n",
    "* Test Case 2\n",
    "* Test Case 3"
   ]
  },
  {
   "cell_type": "code",
   "execution_count": null,
   "metadata": {},
   "outputs": [],
   "source": []
  },
  {
   "cell_type": "code",
   "execution_count": null,
   "metadata": {},
   "outputs": [],
   "source": []
  },
  {
   "cell_type": "code",
   "execution_count": null,
   "metadata": {},
   "outputs": [],
   "source": []
  },
  {
   "cell_type": "code",
   "execution_count": null,
   "metadata": {},
   "outputs": [],
   "source": []
  },
  {
   "cell_type": "code",
   "execution_count": null,
   "metadata": {},
   "outputs": [],
   "source": []
  },
  {
   "cell_type": "code",
   "execution_count": null,
   "metadata": {},
   "outputs": [],
   "source": []
  },
  {
   "cell_type": "code",
   "execution_count": null,
   "metadata": {},
   "outputs": [],
   "source": []
  },
  {
   "cell_type": "code",
   "execution_count": null,
   "metadata": {},
   "outputs": [],
   "source": []
  },
  {
   "cell_type": "code",
   "execution_count": null,
   "metadata": {},
   "outputs": [],
   "source": []
  }
 ],
 "metadata": {
  "kernelspec": {
   "display_name": "Python 3",
   "language": "python",
   "name": "python3"
  },
  "language_info": {
   "codemirror_mode": {
    "name": "ipython",
    "version": 3
   },
   "file_extension": ".py",
   "mimetype": "text/x-python",
   "name": "python",
   "nbconvert_exporter": "python",
   "pygments_lexer": "ipython3",
   "version": "3.6.5"
  }
 },
 "nbformat": 4,
 "nbformat_minor": 2
}
