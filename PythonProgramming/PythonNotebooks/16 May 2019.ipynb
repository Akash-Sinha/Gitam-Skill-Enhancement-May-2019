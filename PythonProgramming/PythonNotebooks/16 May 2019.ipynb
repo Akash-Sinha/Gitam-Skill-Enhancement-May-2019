{
 "cells": [
  {
   "cell_type": "markdown",
   "metadata": {},
   "source": [
    "# Problem Solving and Programming\n",
    "\n",
    "### Day No -\n",
    "### Date - \n",
    "\n",
    "### Day Objectives\n",
    "1. File Handling\n",
    "2. External Libraries\n",
    "3. Functional Programming\n",
    "\n"
   ]
  },
  {
   "cell_type": "markdown",
   "metadata": {},
   "source": [
    "### Problem 1 : \n",
    "#### Problem Statement\n",
    "Define a function to read data from a text file\n",
    "\n",
    "#### Constraints\n",
    "\n",
    "#### Test Cases\n",
    "* Test Case 1\n",
    "* Test Case 2\n",
    "* Test Case 3"
   ]
  },
  {
   "cell_type": "code",
   "execution_count": 15,
   "metadata": {},
   "outputs": [],
   "source": [
    "def readFileData(filename):\n",
    "    with open(filename, 'r') as f:\n",
    "        #for line in f:\n",
    "         #   print(line, end = '')\n",
    "        filedata = f.read()\n",
    "            \n",
    "    return filedata\n",
    "\n",
    "\n",
    "def writeIntoFile(filename, data, mode):\n",
    "    with open(filename, mode) as f:\n",
    "        f.write(data)\n",
    "    return\n",
    "\n",
    "#writeIntoFile('DataFiles/fileWrite.txt', 'Second line \\n', 'a')"
   ]
  },
  {
   "cell_type": "code",
   "execution_count": null,
   "metadata": {},
   "outputs": [],
   "source": []
  },
  {
   "cell_type": "markdown",
   "metadata": {},
   "source": [
    "### Problem 2 : \n",
    "#### Problem Statement\n",
    "Define a function to generate a Marks data file(text file) \n",
    "for 1300 students such that each mark is entered \n",
    "in a new line. Marks range from 0 to 100 (inclusive)\n",
    "as random numbers\n",
    "\n",
    "#### Constraints\n",
    "\n",
    "#### Test Cases\n",
    "* Test Case 1\n",
    "* Test Case 2\n",
    "* Test Case 3"
   ]
  },
  {
   "cell_type": "code",
   "execution_count": 39,
   "metadata": {},
   "outputs": [],
   "source": [
    "import random\n",
    "\n",
    "def generateMarksData(n, filename):\n",
    "    with open(filename, 'w') as marksfile:\n",
    "        for i in range(0, n):\n",
    "            marks = random.randint(0, 100)\n",
    "            marksfile.write(str(marks)+'\\n')\n",
    "    return\n",
    "\n",
    "generateMarksData(1300, 'marksData.txt')"
   ]
  },
  {
   "cell_type": "code",
   "execution_count": null,
   "metadata": {},
   "outputs": [],
   "source": []
  },
  {
   "cell_type": "markdown",
   "metadata": {},
   "source": [
    "### Problem 3 : \n",
    "#### Problem Statement\n",
    "Generate a report on the marks data with the \n",
    "following indicators\n",
    "* Highest Mark : \n",
    "* Lowest Mark : \n",
    "* Average mark : \n",
    "* No of students with distinction(>80) : \n",
    "* No of students with first class(>60) :\n",
    "* No of students with second class(>50) :\n",
    "* No of students with third class(>40) :\n",
    "* No of students failed(<40) : \n",
    "\n",
    "\n",
    "#### Constraints\n",
    "\n",
    "#### Test Cases\n",
    "* Test Case 1\n",
    "* Test Case 2\n",
    "* Test Case 3"
   ]
  },
  {
   "cell_type": "code",
   "execution_count": 53,
   "metadata": {},
   "outputs": [
    {
     "name": "stdout",
     "output_type": "stream",
     "text": [
      "100\n"
     ]
    },
    {
     "data": {
      "text/plain": [
       "0.0013619729998026742"
      ]
     },
     "execution_count": 53,
     "metadata": {},
     "output_type": "execute_result"
    }
   ],
   "source": [
    "import re, timeit\n",
    "def generateMarksReport(marksfile):\n",
    "    start = timeit.default_timer()\n",
    "    marksdata = readFileData(marksfile)\n",
    "    #print(marksdata[2])\n",
    "    marksdata = re.split(r'\\n', marksdata)\n",
    "    marksdata = list(map(int, marksdata[:len(marksdata)-1]))\n",
    "    #print(marksdata[len(marksdata)-2])\n",
    "    #print(type(marksdata[0]))\n",
    "    print(max(marksdata))\n",
    "    return timeit.default_timer() - start\n",
    "\n",
    "generateMarksReport('marksData.txt')"
   ]
  },
  {
   "cell_type": "code",
   "execution_count": null,
   "metadata": {},
   "outputs": [],
   "source": []
  },
  {
   "cell_type": "markdown",
   "metadata": {},
   "source": [
    "### Problem 1 : \n",
    "#### Problem Statement\n",
    "Map example\n",
    "\n",
    "\n",
    "#### Constraints\n",
    "\n",
    "#### Test Cases\n",
    "* Test Case 1\n",
    "* Test Case 2\n",
    "* Test Case 3"
   ]
  },
  {
   "cell_type": "code",
   "execution_count": 52,
   "metadata": {},
   "outputs": [
    {
     "name": "stdout",
     "output_type": "stream",
     "text": [
      "0.00010992699935741257\n"
     ]
    },
    {
     "data": {
      "text/plain": [
       "[1.0, 2.0, 3.0, 4.0, 5.0, 6.0]"
      ]
     },
     "execution_count": 52,
     "metadata": {},
     "output_type": "execute_result"
    }
   ],
   "source": [
    "import timeit\n",
    "def square(n):\n",
    "    return n * n\n",
    "st = timeit.default_timer()\n",
    "li = [1, 2, 3, 4, 5, 6]\n",
    "#s = str(li)\n",
    "s = list(map(str, li))\n",
    "\n",
    "s = [float(i) for i in s]\n",
    "print(timeit.default_timer()-st)\n",
    "s\n"
   ]
  },
  {
   "cell_type": "code",
   "execution_count": 58,
   "metadata": {},
   "outputs": [
    {
     "data": {
      "text/plain": [
       "516"
      ]
     },
     "execution_count": 58,
     "metadata": {},
     "output_type": "execute_result"
    }
   ],
   "source": [
    "import re, timeit\n",
    "def generateMarksReport(marksfile):\n",
    "    start = timeit.default_timer()\n",
    "    marksdata = readFileData(marksfile)\n",
    "    #print(marksdata[2])\n",
    "    marksdata = re.split(r'\\n', marksdata)\n",
    "    marksdata = list(map(int, marksdata[:len(marksdata)-1]))\n",
    "    #print(marksdata[len(marksdata)-2])\n",
    "    #print(type(marksdata[0]))\n",
    "    #print(max(marksdata))\n",
    "    return marksdata\n",
    "\n",
    "marksdata = generateMarksReport('marksData.txt')\n",
    "\n",
    "def distinction(mark):\n",
    "    return mark >= 80\n",
    "\n",
    "dis = sum(map(distinction, marksdata))\n",
    "\n",
    "failed = sum(1 for i in marksdata if i < 40)\n",
    "failed\n",
    "\n",
    "\n"
   ]
  },
  {
   "cell_type": "code",
   "execution_count": null,
   "metadata": {},
   "outputs": [],
   "source": []
  },
  {
   "cell_type": "code",
   "execution_count": null,
   "metadata": {},
   "outputs": [],
   "source": []
  },
  {
   "cell_type": "code",
   "execution_count": null,
   "metadata": {},
   "outputs": [],
   "source": [
    "### Problem 1 : \n",
    "#### Problem Statement\n",
    "\n",
    "#### Constraints\n",
    "\n",
    "#### Test Cases\n",
    "* Test Case 1\n",
    "* Test Case 2\n",
    "* Test Case 3"
   ]
  },
  {
   "cell_type": "code",
   "execution_count": 60,
   "metadata": {},
   "outputs": [
    {
     "name": "stdout",
     "output_type": "stream",
     "text": [
      "[[0 1 2]\n",
      " [3 4 5]]\n"
     ]
    },
    {
     "data": {
      "text/plain": [
       "numpy.ndarray"
      ]
     },
     "execution_count": 60,
     "metadata": {},
     "output_type": "execute_result"
    }
   ],
   "source": [
    "import numpy as np   # Importing libraries\n",
    "\n",
    "a = np.array([[0, 1, 2], [3, 4, 5]])\n",
    "\n",
    "print(a)\n",
    "type(a)"
   ]
  },
  {
   "cell_type": "code",
   "execution_count": null,
   "metadata": {},
   "outputs": [],
   "source": []
  },
  {
   "cell_type": "code",
   "execution_count": null,
   "metadata": {},
   "outputs": [],
   "source": [
    "### Problem 1 : \n",
    "#### Problem Statement\n",
    "\n",
    "#### Constraints\n",
    "\n",
    "#### Test Cases\n",
    "* Test Case 1\n",
    "* Test Case 2\n",
    "* Test Case 3"
   ]
  }
 ],
 "metadata": {
  "kernelspec": {
   "display_name": "Python 3",
   "language": "python",
   "name": "python3"
  },
  "language_info": {
   "codemirror_mode": {
    "name": "ipython",
    "version": 3
   },
   "file_extension": ".py",
   "mimetype": "text/x-python",
   "name": "python",
   "nbconvert_exporter": "python",
   "pygments_lexer": "ipython3",
   "version": "3.6.5"
  }
 },
 "nbformat": 4,
 "nbformat_minor": 2
}
