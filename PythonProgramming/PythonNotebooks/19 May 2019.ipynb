{
 "cells": [
  {
   "cell_type": "markdown",
   "metadata": {},
   "source": [
    "# Problem Solving and Programming\n",
    "\n",
    "### Day No -\n",
    "### Date - \n"
   ]
  },
  {
   "cell_type": "markdown",
   "metadata": {},
   "source": [
    "### Day Objectives\n",
    "1. Objective 1\n",
    "2. Objective 2\n",
    "3. Objective 3\n",
    "\n"
   ]
  },
  {
   "cell_type": "raw",
   "metadata": {},
   "source": [
    "\n",
    "\n",
    "### Problem 1 : \n",
    "#### Problem Statement\n",
    "3N + 1 Problem\n",
    "\n",
    "#### Constraints\n",
    "\n",
    "#### Test Cases\n",
    "* Test Case 1\n",
    "* Test Case 2\n",
    "* Test Case 3\n",
    "\n",
    "#### Explanation\n",
    "\n",
    "n\n",
    "\n",
    "for a given n,\n",
    "calculate the length of the series\n",
    "\n",
    "n, n/2 or 3n+1, \n",
    "\n",
    "4\n",
    "len(4, 2, 1) = 3\n",
    "\n",
    "range(i , j+1)\n",
    "i, i + 1, i + 2, ....j\n",
    "\n",
    "\n",
    "\n",
    "\n",
    "\n"
   ]
  },
  {
   "cell_type": "code",
   "execution_count": 7,
   "metadata": {},
   "outputs": [
    {
     "name": "stdout",
     "output_type": "stream",
     "text": [
      "900 1000 174 0.001459533999877749\n"
     ]
    }
   ],
   "source": [
    "import timeit\n",
    "def cycleLength(n):\n",
    "    if n == 1:\n",
    "        return 1\n",
    "    length = 1\n",
    "    while(n != 1):\n",
    "        if n % 2 == 0:\n",
    "            n /= 2\n",
    "            length += 1\n",
    "        else:\n",
    "            n = 3 * n + 1\n",
    "            length += 1\n",
    "    return length\n",
    "\n",
    "def threeNPlusOne(i, j):\n",
    "    s = timeit.default_timer()\n",
    "    '''\n",
    "    m = 0\n",
    "    for k in range(i, j + 1):\n",
    "        cl = cycleLength(k)\n",
    "        if cl > m:\n",
    "            m = cl\n",
    "    '''\n",
    "    m = max(map(cycleLength, range(i, j+1)))\n",
    "    print(i, j, m, timeit.default_timer()-s)\n",
    "    return\n",
    "\n",
    "\n",
    "threeNPlusOne(900, 1000)\n"
   ]
  },
  {
   "cell_type": "code",
   "execution_count": 23,
   "metadata": {},
   "outputs": [
    {
     "data": {
      "text/plain": [
       "89"
      ]
     },
     "execution_count": 23,
     "metadata": {},
     "output_type": "execute_result"
    }
   ],
   "source": [
    "\n",
    "def cycleLength(n):\n",
    "    length = 1\n",
    "    while(n != 1):\n",
    "        if n % 2 == 0:\n",
    "            n = n / 2\n",
    "        else:\n",
    "            n = 3 * n + 1\n",
    "        length += 1\n",
    "    return length\n",
    "        \n",
    "def mainSolution(i, j):\n",
    "    #return max(map(cycleLength, range(i, j+1)))\n",
    "    lenlist = [cycleLength(k) for k in range(i, j+1)]\n",
    "    return max(lenlist)\n",
    "\n",
    "mainSolution(201, 210)"
   ]
  },
  {
   "cell_type": "code",
   "execution_count": null,
   "metadata": {},
   "outputs": [],
   "source": []
  }
 ],
 "metadata": {
  "kernelspec": {
   "display_name": "Python 3",
   "language": "python",
   "name": "python3"
  },
  "language_info": {
   "codemirror_mode": {
    "name": "ipython",
    "version": 3
   },
   "file_extension": ".py",
   "mimetype": "text/x-python",
   "name": "python",
   "nbconvert_exporter": "python",
   "pygments_lexer": "ipython3",
   "version": "3.6.5"
  }
 },
 "nbformat": 4,
 "nbformat_minor": 2
}
